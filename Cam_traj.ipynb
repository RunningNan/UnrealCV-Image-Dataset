{
 "cells": [
  {
   "cell_type": "code",
   "execution_count": 1,
   "id": "e180a220",
   "metadata": {},
   "outputs": [],
   "source": [
    "%matplotlib inline"
   ]
  },
  {
   "cell_type": "code",
   "execution_count": 2,
   "id": "6df2283f",
   "metadata": {},
   "outputs": [
    {
     "name": "stdout",
     "output_type": "stream",
     "text": [
      "The last update of this file: 2023-08-17 18:46:13\n"
     ]
    }
   ],
   "source": [
    "import time; print(time.strftime(\"The last update of this file: %Y-%m-%d %H:%M:%S\", time.gmtime()))"
   ]
  },
  {
   "cell_type": "code",
   "execution_count": 3,
   "id": "d1a8dd98",
   "metadata": {},
   "outputs": [],
   "source": [
    "\n",
    "from __future__ import division, absolute_import, print_function\n",
    "import os, sys, time, re, json\n",
    "import numpy as np\n",
    "import matplotlib.pyplot as plt\n",
    "\n",
    "imread = plt.imread\n",
    "def imread8(im_file):\n",
    "    ''' Read image as a 8-bit numpy array '''\n",
    "    im = np.asarray(Image.open(im_file))\n",
    "    return im\n",
    "\n",
    "def read_png(res):\n",
    "    import io\n",
    "    import PIL.Image\n",
    "    img = PIL.Image.open(io.BytesIO(res))\n",
    "    return np.asarray(img)\n",
    "\n",
    "def read_npy(res):\n",
    "    import io\n",
    "    return np.load(io.BytesIO(res))"
   ]
  },
  {
   "cell_type": "code",
   "execution_count": 4,
   "id": "023d67ee",
   "metadata": {},
   "outputs": [
    {
     "name": "stderr",
     "output_type": "stream",
     "text": [
      "INFO:__init__:234:Got connection confirm: b'connected to Project_Text'\n"
     ]
    },
    {
     "name": "stdout",
     "output_type": "stream",
     "text": [
      "=> Info: Use inet client...\n",
      "=>Info: using ip-port socket\n"
     ]
    }
   ],
   "source": [
    "import unrealcv\n",
    "from unrealcv import client\n",
    "# Connecting to the game\n",
    "unrealcv.client.connect()\n",
    "if not unrealcv.client.isconnected():\n",
    "    print('UnrealCV服务器未运行。请首先从http://unrealcv.github.io下载并运行游戏.')\n",
    "    sys.exit(-1)"
   ]
  },
  {
   "cell_type": "code",
   "execution_count": 28,
   "id": "ed8b9b31",
   "metadata": {},
   "outputs": [],
   "source": [
    "#Head\n",
    "import unrealcv\n",
    "import math\n",
    "import time\n",
    "import os\n",
    "from unrealcv import client\n",
    "\n",
    "\n",
    "# 创建一个目录来保存图像\n",
    "image_dir = r'D:\\Nerf_Head\\Vivian_Test\\RGB'\n",
    "depth_dir = r'D:\\Nerf_Head\\Vivian_Test\\Depth'\n",
    "os.makedirs(image_dir, exist_ok=True)\n",
    "\n",
    "# 初始的相机和物体位置\n",
    "camera_location = [-23, 0, 158]  # Camera position\n",
    "object_location = [0, 0, 0]  # Object position\n",
    "\n",
    "# 计算物体到相机在XY平面上的半径\n",
    "radius = math.sqrt((camera_location[0]-object_location[0])**2 + (camera_location[1]-object_location[1])**2)\n",
    "\n",
    "angle = 0  # Starting angle\n",
    "step = 360.0/100.0  # Step size for 100 pictures\n",
    "#Flag\n",
    "Flag = 0\n",
    "for i in range(100):\n",
    "    # 使用三角函数计算新的相机位置\n",
    "    x = object_location[0] + radius * math.cos(math.radians(angle))\n",
    "    y = object_location[1] + radius * math.sin(math.radians(angle))\n",
    "    z = camera_location[2]  # 高度保持不变\n",
    "    \n",
    "    \n",
    "\n",
    "    # 计算俯仰角和偏航角，以保持相机看向物体\n",
    "    dx, dy, dz = object_location[0] - x, object_location[1] - y, object_location[2] - z\n",
    "    distance = math.sqrt(dx * dx + dy * dy + dz * dz)\n",
    "    pitch = 0\n",
    "    yaw = math.degrees(math.atan2(dy, dx))\n",
    "    roll = 0  # 不需要roll\n",
    "\n",
    "    # 更新相机位置和旋转\n",
    "    unrealcv.client.request(f'vset /camera/1/location {x} {y} {z}')\n",
    "    unrealcv.client.request(f'vset /camera/1/rotation {pitch} {yaw} {roll}')\n",
    "    \n",
    "    loc = client.request('vget /camera/1/location').split(' ')\n",
    "    rot = client.request('vget /camera/1/rotation').split(' ')\n",
    "    trajectory = []\n",
    "    trajectory.append(dict(rotation = rot, location = loc))\n",
    "    \n",
    "    if Flag == 0:\n",
    "        Flag = Flag + 1\n",
    "        if len(trajectory) != 0:\n",
    "             with open(\"camera_tra_HeadPure.json\", 'w') as f:\n",
    "                    json.dump(trajectory, f, indent = 4)\n",
    "    else:\n",
    "        if len(trajectory) != 0:\n",
    "             with open(\"camera_tra_HeadPure.json\", 'a') as f:\n",
    "                    json.dump(trajectory, f, indent = 4)\n",
    "    # 捕捉图像并保存\n",
    "    unrealcv.client.request(f'vget /camera/1/lit {image_dir}\\\\frame_{i:03d}.png')\n",
    "    unrealcv.client.request(f'vget /camera/1/depth {depth_dir}\\\\depth_frame_{int(angle // 3.6):03d}.npy')\n",
    "\n",
    "    # 更新下一步的角度\n",
    "    angle += step\n",
    "\n",
    "    # 睡眠一会儿以控制旋转速度\n",
    "    time.sleep(0.1)\n"
   ]
  },
  {
   "cell_type": "code",
   "execution_count": 7,
   "id": "61aff82e",
   "metadata": {},
   "outputs": [],
   "source": [
    "#Hand\n",
    "import unrealcv\n",
    "import math\n",
    "import time\n",
    "import os\n",
    "from unrealcv import client\n",
    "\n",
    "\n",
    "# Create a directory to save images\n",
    "image_dir = r'D:\\Nerf_Hand\\Vivian_100(200px)\\RGB'\n",
    "depth_dir = r'D:\\Nerf_Hand\\Vivian_100(200px)\\Depth'\n",
    "os.makedirs(image_dir, exist_ok=True)\n",
    "\n",
    "# 初始的相机和物体位置\n",
    "camera_location = [-23, 0, 158]  # Camera position\n",
    "object_location = [0, 0, 0]  # Object position\n",
    "\n",
    "# 计算物体到相机在XY平面上的半径\n",
    "radius = math.sqrt((camera_location[0]-object_location[0])**2 + (camera_location[1]-object_location[1])**2)\n",
    "\n",
    "angle = 0  # Starting angle\n",
    "step = 360.0/100.0  # Step size for 100 pictures\n",
    "#Flag\n",
    "Flag = 0\n",
    "for i in range(100):\n",
    "    # 使用三角函数计算新的相机位置\n",
    "    x = object_location[0] + radius * math.cos(math.radians(angle))\n",
    "    y = object_location[1] + radius * math.sin(math.radians(angle))\n",
    "    z = camera_location[2]  # 高度保持不变\n",
    "    \n",
    "    \n",
    "\n",
    "    # 计算俯仰角和偏航角，以保持相机看向物体\n",
    "    dx, dy, dz = object_location[0] - x, object_location[1] - y, object_location[2] - z\n",
    "    distance = math.sqrt(dx * dx + dy * dy + dz * dz)\n",
    "    pitch = 0\n",
    "    yaw = math.degrees(math.atan2(dy, dx))\n",
    "    roll = 0  # 不需要roll\n",
    "\n",
    "    # 更新相机位置和旋转\n",
    "    unrealcv.client.request(f'vset /camera/1/location {x} {y} {z}')\n",
    "    unrealcv.client.request(f'vset /camera/1/rotation {pitch} {yaw} {roll}')\n",
    "    \n",
    "    loc = client.request('vget /camera/1/location').split(' ')\n",
    "    rot = client.request('vget /camera/1/rotation').split(' ')\n",
    "    #loc[0], loc[1] = loc[1], loc[0]\n",
    "    #rot[1], rot[2] = rot[2], rot[1]\n",
    "    trajectory = []\n",
    "    trajectory.append(dict(rotation = rot, location = loc))\n",
    "    \n",
    "    if Flag == 0:\n",
    "        Flag = Flag + 1\n",
    "        if len(trajectory) != 0:\n",
    "             with open(\"camera_tra_hand_100_200px.json\", 'w') as f:\n",
    "                    json.dump(trajectory, f, indent = 4)\n",
    "    else:\n",
    "        if len(trajectory) != 0:\n",
    "             with open(\"camera_tra_hand_100_200px.json\", 'a') as f:\n",
    "                    json.dump(trajectory, f, indent = 4)\n",
    "    # 捕捉图像并保存\n",
    "    unrealcv.client.request(f'vget /camera/1/lit {image_dir}\\\\frame_{i:03d}.png')\n",
    "    unrealcv.client.request(f'vget /camera/1/depth {depth_dir}\\\\depth_frame_{int(angle // 3.6):03d}.npy')\n",
    "\n",
    "    # 更新下一步的角度\n",
    "    angle += step\n",
    "\n",
    "    # 睡眠一会儿以控制旋转速度\n",
    "    time.sleep(0.1)\n"
   ]
  },
  {
   "cell_type": "code",
   "execution_count": 16,
   "id": "4856189e",
   "metadata": {},
   "outputs": [
    {
     "name": "stdout",
     "output_type": "stream",
     "text": [
      "Brush_1 CameraActor_0 Metahuman_T1 Vivian InstancedFoliageActor_0 Hand_2 Starter_Background_Cue_2 HUD_0 ParticleEventManager_0 PlayerCameraManager_0 GameplayDebuggerCategoryReplicator_0 GameplayDebuggerPlayerManager_0 UnrealcvWorldController_0 AbstractNavData-Default GameModeBase_0 GameStateBase_0 SkyLight_1 AtmosphericFog_1 GameNetworkManager_0 GameSession_0 PlayerState_0 WorldSettings_1 PlayerController_0 DefaultPawn_0 LightSource DirectionalLight_1 DirectionalLight2 Minimal_Default_C_0 PlayerStart FusionCameraActor_1 GlobalPostProcessVolume PlayerStartPIE_0 DefaultPhysicsVolume_0 \n"
     ]
    }
   ],
   "source": [
    "list1 = client.request('vget /objects')\n",
    "print(list1)"
   ]
  },
  {
   "cell_type": "code",
   "execution_count": 6,
   "id": "ac8c2f8e",
   "metadata": {},
   "outputs": [
    {
     "name": "stdout",
     "output_type": "stream",
     "text": [
      "(200, 200, 4)\n"
     ]
    },
    {
     "data": {
      "text/plain": [
       "<matplotlib.image.AxesImage at 0x1fa56c82640>"
      ]
     },
     "execution_count": 6,
     "metadata": {},
     "output_type": "execute_result"
    },
    {
     "data": {
      "image/png": "[encoded data removed]",
      "text/plain": [
       "<Figure size 640x480 with 1 Axes>"
      ]
     },
     "metadata": {},
     "output_type": "display_data"
    }
   ],
   "source": [
    "client.request('vset /object/SkyLight_1/hide')\n",
    "client.request('vset /object/AtmosphericFog_1/hide')\n",
    "client.request('vset /object/DirectionalLight2/hide')\n",
    "client.request('vset /object/DirectionalLight_1/hide')\n",
    "res = client.request('vget /camera/1/lit png')\n",
    "im = read_png(res)\n",
    "print(im.shape)\n",
    "plt.imshow(im)"
   ]
  },
  {
   "cell_type": "code",
   "execution_count": null,
   "id": "b4c8e6b4",
   "metadata": {},
   "outputs": [],
   "source": []
  }
 ],
 "metadata": {
  "kernelspec": {
   "display_name": "Python 3 (ipykernel)",
   "language": "python",
   "name": "python3"
  },
  "language_info": {
   "codemirror_mode": {
    "name": "ipython",
    "version": 3
   },
   "file_extension": ".py",
   "mimetype": "text/x-python",
   "name": "python",
   "nbconvert_exporter": "python",
   "pygments_lexer": "ipython3",
   "version": "3.9.13"
  }
 },
 "nbformat": 4,
 "nbformat_minor": 5
}
