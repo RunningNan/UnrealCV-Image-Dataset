{
 "cells": [
  {
   "cell_type": "code",
   "execution_count": 1,
   "id": "b4dd56b9-26ba-4379-83a7-fa8849dc519e",
   "metadata": {},
   "outputs": [
    {
     "name": "stdout",
     "output_type": "stream",
     "text": [
      "loaded model from: ./models/flame2023.pkl\n",
      "\n",
      "FLAME coefficients:\n",
      "shape (identity) coefficient shape = (300,)\n",
      "expression coefficient shape       = (100,)\n",
      "pose coefficient shape             = (15,)\n",
      "\n",
      "FLAME model components:\n",
      "shape (identity) component shape = (5023, 3, 300)\n",
      "expression component shape       = (5023, 3, 100)\n",
      "pose corrective blendshape shape = (5023, 3, 36)\n",
      "\n",
      "\n",
      "output mesh saved to:  ./output/hello_flame.obj\n"
     ]
    }
   ],
   "source": [
    "'''\n",
    "Max-Planck-Gesellschaft zur Foerderung der Wissenschaften e.V. (MPG) is holder of all proprietary rights on this computer program. \n",
    "Using this computer program means that you agree to the terms in the LICENSE file (https://flame.is.tue.mpg.de/modellicense) included \n",
    "with the FLAME model. Any use not explicitly granted by the LICENSE is prohibited.\n",
    "\n",
    "Copyright 2020 Max-Planck-Gesellschaft zur Foerderung der Wissenschaften e.V. (MPG). acting on behalf of its \n",
    "Max Planck Institute for Intelligent Systems. All rights reserved.\n",
    "\n",
    "More information about FLAME is available at http://flame.is.tue.mpg.de.\n",
    "For comments or questions, please email us at flame@tue.mpg.de\n",
    "Fit1\n",
    "'''\n",
    "\n",
    "# This script is based on the hello-world script from SMPL python code http://smpl.is.tue.mpg.de/downloads\n",
    "\n",
    "import numpy as np\n",
    "from os.path import join\n",
    "from smpl_webuser.serialization import load_model\n",
    "from fitting.util import write_simple_obj, safe_mkdir\n",
    "\n",
    "# -----------------------------------------------------------------------------\n",
    "\n",
    "if __name__ == '__main__':\n",
    "\n",
    "    # Load FLAME model (here we load the generic model)\n",
    "    # Make sure path is correct\n",
    "    model_path = './models/flame2023.pkl'\n",
    "    model = load_model( model_path )           # the loaded model object is a 'chumpy' object, check https://github.com/mattloper/chumpy for details\n",
    "    print(\"loaded model from:\", model_path)\n",
    "\n",
    "    # Show component number\n",
    "    print(\"\\nFLAME coefficients:\")\n",
    "    print(\"shape (identity) coefficient shape =\", model.betas[0:300].shape) # valid shape component range in \"betas\": 0-299\n",
    "    print(\"expression coefficient shape       =\", model.betas[300:].shape)  # valid expression component range in \"betas\": 300-399\n",
    "    print(\"pose coefficient shape             =\", model.pose.shape)\n",
    "\n",
    "    print(\"\\nFLAME model components:\")\n",
    "    print(\"shape (identity) component shape =\", model.shapedirs[:,:,0:300].shape)\n",
    "    print(\"expression component shape       =\", model.shapedirs[:,:,300:].shape)\n",
    "    print(\"pose corrective blendshape shape =\", model.posedirs.shape)\n",
    "    print(\"\\n\")\n",
    "\n",
    "    # -----------------------------------------------------------------------------\n",
    "\n",
    "    # Assign random pose and shape parameters\n",
    "    model.pose[:]  = np.random.randn(model.pose.size) * 0.02\n",
    "    model.betas[:100] = np.random.randn(100) * 0.6\n",
    "    model.betas[300:350] = np.random.randn(50) * 0.6\n",
    "    # model.trans[:] = np.random.randn( model.trans.size ) * 0.01   # you may also manipulate the translation of mesh\n",
    "\n",
    "    # Write to an .obj file\n",
    "    outmesh_dir = './output'\n",
    "    safe_mkdir( outmesh_dir )\n",
    "    outmesh_path = join( outmesh_dir, 'hello_flame.obj')\n",
    "    write_simple_obj( mesh_v=model.r, mesh_f=model.f, filepath=outmesh_path )\n",
    "\n",
    "    print('output mesh saved to: ', outmesh_path) \n",
    "\n"
   ]
  },
  {
   "cell_type": "code",
   "execution_count": null,
   "id": "8d991cf4-2a79-492e-8ce3-2a37f4198d9a",
   "metadata": {},
   "outputs": [],
   "source": []
  }
 ],
 "metadata": {
  "kernelspec": {
   "display_name": "Python 3 (ipykernel)",
   "language": "python",
   "name": "python3"
  },
  "language_info": {
   "codemirror_mode": {
    "name": "ipython",
    "version": 3
   },
   "file_extension": ".py",
   "mimetype": "text/x-python",
   "name": "python",
   "nbconvert_exporter": "python",
   "pygments_lexer": "ipython3",
   "version": "3.8.10"
  }
 },
 "nbformat": 4,
 "nbformat_minor": 5
}
